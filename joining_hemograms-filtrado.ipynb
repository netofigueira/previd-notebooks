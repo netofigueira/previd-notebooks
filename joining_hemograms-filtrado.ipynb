{
 "cells": [
  {
   "cell_type": "code",
   "execution_count": 1,
   "metadata": {},
   "outputs": [],
   "source": [
    "import pandas as pd\n",
    "import matplotlib.pyplot as plt\n",
    "import numpy as np\n",
    "import seaborn as sns"
   ]
  },
  {
   "cell_type": "code",
   "execution_count": 2,
   "metadata": {},
   "outputs": [],
   "source": [
    "from metrics_monitor import monitor_table\n",
    "from sklearn.metrics import precision_score\n",
    "from sklearn.metrics import recall_score\n",
    "from sklearn.metrics import f1_score\n",
    "from sklearn.metrics import roc_auc_score\n",
    "from sklearn.metrics import matthews_corrcoef"
   ]
  },
  {
   "cell_type": "code",
   "execution_count": 4,
   "metadata": {},
   "outputs": [],
   "source": [
    "df_exames_einstein = pd.read_csv('EINSTEIN_Exames_2.csv', sep='|')"
   ]
  },
  {
   "cell_type": "code",
   "execution_count": 13,
   "metadata": {},
   "outputs": [],
   "source": [
    "df_pacientes_einstein = pd.read_csv('EINSTEIN_Pacientes_2.csv', sep ='|')"
   ]
  },
  {
   "cell_type": "code",
   "execution_count": null,
   "metadata": {},
   "outputs": [],
   "source": [
    "df_exames_hsl = pd.read_csv('HSL_Exames_2.csv', sep='|')"
   ]
  },
  {
   "cell_type": "code",
   "execution_count": 20,
   "metadata": {},
   "outputs": [],
   "source": [
    "df_pacientes_hsl = pd.read_csv('HSL_Pacientes_2.csv', sep='|')"
   ]
  },
  {
   "cell_type": "code",
   "execution_count": null,
   "metadata": {},
   "outputs": [],
   "source": [
    "df_exames_fleury = pd.read_csv('GrupoFleury_Exames_2.csv', sep='|')"
   ]
  },
  {
   "cell_type": "code",
   "execution_count": 21,
   "metadata": {},
   "outputs": [],
   "source": [
    "df_pacientes_fleury = pd.read_csv('GrupoFleury_Pacientes_2.csv', sep='|')"
   ]
  },
  {
   "cell_type": "code",
   "execution_count": null,
   "metadata": {},
   "outputs": [],
   "source": [
    "df_exames_einstein.DE_EXAME.unique()"
   ]
  },
  {
   "cell_type": "code",
   "execution_count": 6,
   "metadata": {},
   "outputs": [],
   "source": [
    "df_hemogram_einstein1 = df_exames_einstein.loc[df_exames_einstein.DE_EXAME == 'Hemograma com Plaquetas']"
   ]
  },
  {
   "cell_type": "code",
   "execution_count": null,
   "metadata": {},
   "outputs": [],
   "source": []
  },
  {
   "cell_type": "code",
   "execution_count": 7,
   "metadata": {},
   "outputs": [],
   "source": [
    "df_hemogram_einstein2 = df_exames_einstein.loc[df_exames_einstein.DE_EXAME == 'Hemograma Contagem Auto']"
   ]
  },
  {
   "cell_type": "code",
   "execution_count": 8,
   "metadata": {},
   "outputs": [
    {
     "name": "stderr",
     "output_type": "stream",
     "text": [
      "/home/neto/anaconda3/lib/python3.8/site-packages/pandas/core/generic.py:5168: SettingWithCopyWarning: \n",
      "A value is trying to be set on a copy of a slice from a DataFrame.\n",
      "Try using .loc[row_indexer,col_indexer] = value instead\n",
      "\n",
      "See the caveats in the documentation: https://pandas.pydata.org/pandas-docs/stable/user_guide/indexing.html#returning-a-view-versus-a-copy\n",
      "  self[name] = value\n"
     ]
    }
   ],
   "source": [
    "df_hemogram_einstein1.DE_RESULTADO =  pd.to_numeric(df_hemogram_einstein1.DE_RESULTADO, errors='coerce')\n",
    "df_hemogram_einstein2.DE_RESULTADO =  pd.to_numeric(df_hemogram_einstein2.DE_RESULTADO, errors='coerce')"
   ]
  },
  {
   "cell_type": "code",
   "execution_count": 9,
   "metadata": {},
   "outputs": [],
   "source": [
    "df_hemogram_einstein1 = df_hemogram_einstein1.pivot_table('DE_RESULTADO', ['ID_PACIENTE', 'DT_COLETA'], 'DE_ANALITO')\n",
    "df_hemogram_einstein2 = df_hemogram_einstein2.pivot_table('DE_RESULTADO', ['ID_PACIENTE', 'DT_COLETA'], 'DE_ANALITO')"
   ]
  },
  {
   "cell_type": "code",
   "execution_count": null,
   "metadata": {},
   "outputs": [],
   "source": []
  },
  {
   "cell_type": "code",
   "execution_count": 13,
   "metadata": {},
   "outputs": [],
   "source": [
    "df_hemogram_einstein = pd.merge(df_hemogram_einstein1.reset_index(), df_hemogram_einstein2.reset_index(), \n",
    "                               right_on=['ID_PACIENTE', 'DT_COLETA'], left_on=['ID_PACIENTE', 'DT_COLETA'])"
   ]
  },
  {
   "cell_type": "code",
   "execution_count": 14,
   "metadata": {},
   "outputs": [],
   "source": [
    "df_pcr_einstein = df_exames_einstein.loc[df_exames_einstein.DE_EXAME =='PCR em tempo real para detecção de Coron']"
   ]
  },
  {
   "cell_type": "code",
   "execution_count": 15,
   "metadata": {},
   "outputs": [],
   "source": [
    "df_einstein = pd.merge(df_pcr_einstein, df_hemogram_einstein,\n",
    "                               left_on = ['ID_PACIENTE', 'DT_COLETA'], right_on=['ID_PACIENTE', 'DT_COLETA']    )"
   ]
  },
  {
   "cell_type": "code",
   "execution_count": 16,
   "metadata": {},
   "outputs": [],
   "source": [
    "df_einstein = pd.merge(df_einstein, df_pacientes_einstein, left_on='ID_PACIENTE', right_on = 'ID_PACIENTE')"
   ]
  },
  {
   "cell_type": "code",
   "execution_count": 18,
   "metadata": {},
   "outputs": [],
   "source": [
    "df_einstein.to_csv('einstein_base_hem_pcr.csv')"
   ]
  },
  {
   "cell_type": "code",
   "execution_count": null,
   "metadata": {},
   "outputs": [],
   "source": [
    "df_hemogram_hsl = df_exames_hsl.loc[df_exames_hsl.DE_EXAME == 'Hemograma, sangue total']"
   ]
  },
  {
   "cell_type": "code",
   "execution_count": null,
   "metadata": {},
   "outputs": [],
   "source": [
    "df_hemogram_hsl = df_hemogram_hsl.append(df_exames_hsl.loc[df_exames_hsl.DE_EXAME == 'Hemograma'])"
   ]
  },
  {
   "cell_type": "code",
   "execution_count": null,
   "metadata": {},
   "outputs": [],
   "source": [
    "df_hemogram_hsl.DE_RESULTADO = df_hemogram_hsl.DE_RESULTADO.str.replace(',', '.')\n",
    "\n",
    "\n",
    "df_hemogram_hsl.DE_RESULTADO =  pd.to_numeric(df_hemogram_hsl.DE_RESULTADO, errors='coerce')"
   ]
  },
  {
   "cell_type": "code",
   "execution_count": null,
   "metadata": {},
   "outputs": [],
   "source": [
    "df_hemogram_hsl = df_hemogram_hsl.pivot_table('DE_RESULTADO', ['ID_PACIENTE', 'DT_COLETA'], 'DE_ANALITO').reset_index()"
   ]
  },
  {
   "cell_type": "code",
   "execution_count": null,
   "metadata": {},
   "outputs": [],
   "source": [
    "df_pcr_hsl = df_exames_hsl.loc[df_exames_hsl.DE_EXAME == 'COVID-19-PCR para SARS-COV-2, Vários Materiais (Fleury)']"
   ]
  },
  {
   "cell_type": "code",
   "execution_count": null,
   "metadata": {},
   "outputs": [],
   "source": [
    "df_pcr_hsl = df_pcr_hsl.append(df_exames_hsl.loc[df_exames_hsl.DE_EXAME == 'Detecção de Coronavírus (NCoV-2019) POR PCR (Anatomia Patológica)'])"
   ]
  },
  {
   "cell_type": "code",
   "execution_count": null,
   "metadata": {},
   "outputs": [],
   "source": [
    "df_hsl= pd.merge(df_pcr_hsl, df_hemogram_hsl, left_on = ['ID_PACIENTE', 'DT_COLETA'], right_on=['ID_PACIENTE', 'DT_COLETA']    )"
   ]
  },
  {
   "cell_type": "code",
   "execution_count": null,
   "metadata": {},
   "outputs": [],
   "source": [
    "df_hsl = pd.merge(df_hsl, df_pacientes_hsl, left_on='ID_PACIENTE', right_on='ID_PACIENTE')"
   ]
  },
  {
   "cell_type": "code",
   "execution_count": null,
   "metadata": {},
   "outputs": [],
   "source": [
    "df_exames_fleury.DE_EXAME.unique()"
   ]
  },
  {
   "cell_type": "code",
   "execution_count": null,
   "metadata": {},
   "outputs": [],
   "source": [
    "df_hemogram_fleury = df_exames_fleury.loc[df_exames_fleury.DE_EXAME == 'HEMOGRAMA, sangue total']"
   ]
  },
  {
   "cell_type": "code",
   "execution_count": null,
   "metadata": {},
   "outputs": [],
   "source": [
    "df_hemogram_fleury.DE_RESULTADO = df_hemogram_fleury.DE_RESULTADO.str.replace(',', '.')\n",
    "\n",
    "df_hemogram_fleury.DE_RESULTADO =  pd.to_numeric(df_hemogram_fleury.DE_RESULTADO, errors='coerce')"
   ]
  },
  {
   "cell_type": "code",
   "execution_count": null,
   "metadata": {},
   "outputs": [],
   "source": [
    "df_pcr_fleury = df_exames_fleury.loc[df_exames_fleury.DE_EXAME ==  'NOVO CORONAVÍRUS 2019 (SARS-CoV-2), DETECÇÃO POR PCR']"
   ]
  },
  {
   "cell_type": "code",
   "execution_count": null,
   "metadata": {},
   "outputs": [],
   "source": [
    "df_fleury = pd.merge(df_pcr_fleury, df_hemogram_fleury.pivot_table('DE_RESULTADO', ['ID_PACIENTE', 'DT_COLETA'], 'DE_ANALITO').reset_index(),\n",
    "                               left_on = ['ID_PACIENTE', 'DT_COLETA'], right_on=['ID_PACIENTE', 'DT_COLETA'] )"
   ]
  },
  {
   "cell_type": "code",
   "execution_count": null,
   "metadata": {},
   "outputs": [],
   "source": [
    "df_pacientes_fleury.columns"
   ]
  },
  {
   "cell_type": "code",
   "execution_count": null,
   "metadata": {},
   "outputs": [],
   "source": [
    "df_fleury = pd.merge(df_fleury, df_pacientes_fleury, left_on=['ID_PACIENTE'], right_on=['ID_PACIENTE'])"
   ]
  },
  {
   "cell_type": "code",
   "execution_count": null,
   "metadata": {},
   "outputs": [],
   "source": []
  },
  {
   "cell_type": "code",
   "execution_count": null,
   "metadata": {},
   "outputs": [],
   "source": []
  },
  {
   "cell_type": "code",
   "execution_count": 19,
   "metadata": {},
   "outputs": [
    {
     "data": {
      "text/plain": [
       "Não detectado    7565\n",
       "Detectado        2611\n",
       "nova coleta         1\n",
       "Inconclusivo        1\n",
       "Name: DE_RESULTADO, dtype: int64"
      ]
     },
     "execution_count": 19,
     "metadata": {},
     "output_type": "execute_result"
    }
   ],
   "source": [
    "df_einstein.DE_RESULTADO.value_counts()"
   ]
  },
  {
   "cell_type": "code",
   "execution_count": 20,
   "metadata": {},
   "outputs": [],
   "source": [
    "df_einstein = df_einstein.loc[df_einstein.DE_RESULTADO.isin(['Não detectado', 'Detectado'])]"
   ]
  },
  {
   "cell_type": "code",
   "execution_count": null,
   "metadata": {},
   "outputs": [],
   "source": [
    "df_fleury.DE_RESULTADO.unique()"
   ]
  },
  {
   "cell_type": "code",
   "execution_count": null,
   "metadata": {},
   "outputs": [],
   "source": [
    "df_fleury = df_fleury.loc[df_fleury.DE_RESULTADO.isin(['NÃO DETECTADO', 'NÃO DETECTADO (NEGATIVO)','DETECTADO (POSITIVO)',\n",
    "                                                              'DETECTADO'])]"
   ]
  },
  {
   "cell_type": "code",
   "execution_count": null,
   "metadata": {},
   "outputs": [],
   "source": []
  },
  {
   "cell_type": "code",
   "execution_count": null,
   "metadata": {},
   "outputs": [],
   "source": [
    "df_hsl.DE_RESULTADO.unique()\n"
   ]
  },
  {
   "cell_type": "code",
   "execution_count": null,
   "metadata": {},
   "outputs": [],
   "source": [
    "df_hsl = df_hsl.loc[df_hsl.DE_RESULTADO.isin(['DETECTADO (POSITIVO)', 'DETECTADO', 'NÃO DETECTADO (NEGATIVO)',\n",
    "                                                     'NÃO DETECTADO'])]"
   ]
  },
  {
   "cell_type": "code",
   "execution_count": null,
   "metadata": {},
   "outputs": [],
   "source": [
    "df_hsl.DE_RESULTADO.unique()"
   ]
  },
  {
   "cell_type": "code",
   "execution_count": null,
   "metadata": {},
   "outputs": [],
   "source": [
    "df_einstein.columns"
   ]
  },
  {
   "cell_type": "code",
   "execution_count": null,
   "metadata": {},
   "outputs": [],
   "source": []
  },
  {
   "cell_type": "code",
   "execution_count": 2,
   "metadata": {},
   "outputs": [],
   "source": [
    "df_einstein = pd.read_csv('einstein_filtrado_1ocorrencia.csv')"
   ]
  },
  {
   "cell_type": "code",
   "execution_count": 4,
   "metadata": {},
   "outputs": [],
   "source": [
    "df_fleury = pd.read_csv('fleury_filtrado_1ocorrencia.csv')"
   ]
  },
  {
   "cell_type": "code",
   "execution_count": 5,
   "metadata": {},
   "outputs": [],
   "source": [
    "df_hsl = pd.read_csv('hsl_filtrado_1ocorrencia.csv')"
   ]
  },
  {
   "cell_type": "code",
   "execution_count": null,
   "metadata": {},
   "outputs": [],
   "source": []
  },
  {
   "cell_type": "code",
   "execution_count": 2,
   "metadata": {},
   "outputs": [],
   "source": [
    "df_einstein = pd.read_csv('df_hem_pcr_einstein1ocorrencia.csv')"
   ]
  },
  {
   "cell_type": "code",
   "execution_count": 3,
   "metadata": {},
   "outputs": [],
   "source": [
    "df_fleury = pd.read_csv('df_hem_pcr_fleury1ocorrencia.csv')"
   ]
  },
  {
   "cell_type": "code",
   "execution_count": 4,
   "metadata": {},
   "outputs": [],
   "source": [
    "df_hsl = pd.read_csv('df_hem_pcr_hsl1ocorrencia.csv')"
   ]
  },
  {
   "cell_type": "code",
   "execution_count": null,
   "metadata": {},
   "outputs": [],
   "source": []
  },
  {
   "cell_type": "code",
   "execution_count": 5,
   "metadata": {},
   "outputs": [
    {
     "data": {
      "text/plain": [
       "Index(['ID_PACIENTE', 'DT_COLETA', 'Basófilos', 'Basófilos #', 'Eosinófilos',\n",
       "       'Eosinófilos  #', 'Linfócitos', 'Linfócitos #', 'Monócitos',\n",
       "       'Monócitos #', 'Neutrófilos', 'Neutrófilos  #', 'CHCM', 'HCM',\n",
       "       'Hematócrito', 'Hemoglobina', 'Hemácias', 'Leucócitos', 'Leucócitos #',\n",
       "       'Plaquetas', 'RDW', 'VCM', 'Volume Médio Plaquetário', 'DE_ORIGEM',\n",
       "       'DE_EXAME', 'DE_ANALITO', 'DE_RESULTADO', 'CD_UNIDADE',\n",
       "       'DE_VALOR_REFERENCIA'],\n",
       "      dtype='object')"
      ]
     },
     "execution_count": 5,
     "metadata": {},
     "output_type": "execute_result"
    }
   ],
   "source": [
    "df_einstein.columns"
   ]
  },
  {
   "cell_type": "code",
   "execution_count": 6,
   "metadata": {},
   "outputs": [
    {
     "data": {
      "text/plain": [
       "array(['Não detectado', 'Detectado', 'nova coleta'], dtype=object)"
      ]
     },
     "execution_count": 6,
     "metadata": {},
     "output_type": "execute_result"
    }
   ],
   "source": [
    "df_einstein.DE_RESULTADO.unique()"
   ]
  },
  {
   "cell_type": "code",
   "execution_count": 7,
   "metadata": {},
   "outputs": [],
   "source": [
    "df_einstein = df_einstein.loc[df_einstein.DE_RESULTADO.isin(['Não detectado', 'Detectado'])]"
   ]
  },
  {
   "cell_type": "code",
   "execution_count": 8,
   "metadata": {},
   "outputs": [
    {
     "name": "stderr",
     "output_type": "stream",
     "text": [
      "<ipython-input-8-68801dd2ada8>:1: SettingWithCopyWarning: \n",
      "A value is trying to be set on a copy of a slice from a DataFrame.\n",
      "Try using .loc[row_indexer,col_indexer] = value instead\n",
      "\n",
      "See the caveats in the documentation: https://pandas.pydata.org/pandas-docs/stable/user_guide/indexing.html#returning-a-view-versus-a-copy\n",
      "  df_einstein['DE_RESULTADO'] = df_einstein.DE_RESULTADO.replace(['Não detectado', 'Detectado'], [0, 1])\n"
     ]
    }
   ],
   "source": [
    "df_einstein['DE_RESULTADO'] = df_einstein.DE_RESULTADO.replace(['Não detectado', 'Detectado'], [0, 1])"
   ]
  },
  {
   "cell_type": "code",
   "execution_count": 9,
   "metadata": {},
   "outputs": [
    {
     "data": {
      "text/plain": [
       "array(['DETECTADO', 'NÃO DETECTADO (NEGATIVO)'], dtype=object)"
      ]
     },
     "execution_count": 9,
     "metadata": {},
     "output_type": "execute_result"
    }
   ],
   "source": [
    "df_hsl.DE_RESULTADO.unique()"
   ]
  },
  {
   "cell_type": "code",
   "execution_count": 10,
   "metadata": {},
   "outputs": [],
   "source": [
    "df_hsl.DE_RESULTADO = df_hsl.DE_RESULTADO.replace(['NÃO DETECTADO (NEGATIVO)', 'DETECTADO'], [0, 1])"
   ]
  },
  {
   "cell_type": "code",
   "execution_count": null,
   "metadata": {},
   "outputs": [],
   "source": []
  },
  {
   "cell_type": "code",
   "execution_count": 41,
   "metadata": {},
   "outputs": [],
   "source": [
    "df_einstein = df_einstein.loc[:,~df_einstein.columns.duplicated()]\n"
   ]
  },
  {
   "cell_type": "code",
   "execution_count": 18,
   "metadata": {},
   "outputs": [],
   "source": [
    "df_pacientes_einstein['idade'] = 2020 -  pd.to_numeric(df_pacientes_einstein['AA_NASCIMENTO'], errors='coerce') "
   ]
  },
  {
   "cell_type": "code",
   "execution_count": 22,
   "metadata": {},
   "outputs": [],
   "source": [
    "df_pacientes_fleury['idade'] = 2020 -  pd.to_numeric(df_pacientes_fleury['AA_NASCIMENTO'], errors='coerce') "
   ]
  },
  {
   "cell_type": "code",
   "execution_count": 23,
   "metadata": {},
   "outputs": [],
   "source": [
    "df_pacientes_hsl['idade'] = 2020 -  pd.to_numeric(df_pacientes_hsl['AA_NASCIMENTO'], errors='coerce') "
   ]
  },
  {
   "cell_type": "code",
   "execution_count": null,
   "metadata": {},
   "outputs": [],
   "source": []
  },
  {
   "cell_type": "code",
   "execution_count": null,
   "metadata": {},
   "outputs": [],
   "source": []
  },
  {
   "cell_type": "code",
   "execution_count": null,
   "metadata": {},
   "outputs": [],
   "source": []
  },
  {
   "cell_type": "code",
   "execution_count": 24,
   "metadata": {},
   "outputs": [],
   "source": [
    "df_einstein = pd.merge(df_einstein, df_pacientes_einstein, on=['ID_PACIENTE'])"
   ]
  },
  {
   "cell_type": "code",
   "execution_count": 25,
   "metadata": {},
   "outputs": [],
   "source": [
    "df_fleury = pd.merge(df_fleury, df_pacientes_fleury, on=['ID_PACIENTE'])"
   ]
  },
  {
   "cell_type": "code",
   "execution_count": 26,
   "metadata": {},
   "outputs": [],
   "source": [
    "df_hsl = pd.merge(df_hsl, df_pacientes_hsl, on=['ID_PACIENTE'])"
   ]
  },
  {
   "cell_type": "code",
   "execution_count": null,
   "metadata": {},
   "outputs": [],
   "source": []
  },
  {
   "cell_type": "code",
   "execution_count": null,
   "metadata": {},
   "outputs": [],
   "source": []
  },
  {
   "cell_type": "code",
   "execution_count": 27,
   "metadata": {},
   "outputs": [],
   "source": [
    "df_einstein = df_einstein[['CHCM', 'HCM',\n",
    "       'Hematócrito', 'Hemoglobina', 'Hemácias', 'Leucócitos', 'Leucócitos #',\n",
    "       'Plaquetas', 'RDW', 'VCM', 'Volume Médio Plaquetário', 'Basófilos',\n",
    "       'Basófilos #', 'Eosinófilos', 'Eosinófilos  #', 'Linfócitos',\n",
    "       'Linfócitos #', 'Monócitos', 'Monócitos #', 'Neutrófilos',\n",
    "       'Neutrófilos  #', 'DE_RESULTADO', 'idade', 'IC_SEXO', 'DE_RESULTADO']]"
   ]
  },
  {
   "cell_type": "code",
   "execution_count": 28,
   "metadata": {},
   "outputs": [
    {
     "name": "stderr",
     "output_type": "stream",
     "text": [
      "/home/neto/anaconda3/lib/python3.8/site-packages/pandas/core/frame.py:4296: SettingWithCopyWarning: \n",
      "A value is trying to be set on a copy of a slice from a DataFrame\n",
      "\n",
      "See the caveats in the documentation: https://pandas.pydata.org/pandas-docs/stable/user_guide/indexing.html#returning-a-view-versus-a-copy\n",
      "  return super().rename(\n"
     ]
    }
   ],
   "source": [
    "df_einstein.rename(columns={'Volume Médio Plaquetário':'Volume plaquetário médio'}, inplace=True)"
   ]
  },
  {
   "cell_type": "code",
   "execution_count": 29,
   "metadata": {},
   "outputs": [],
   "source": [
    "df_einstein.rename(columns={'Hemácias':'Eritrócitos'}, inplace=True)"
   ]
  },
  {
   "cell_type": "code",
   "execution_count": 30,
   "metadata": {},
   "outputs": [],
   "source": [
    "df_einstein.rename(columns={'Basófilos': 'Basófilos (%)', 'Leucócitos':'Leucócitos (%)', \n",
    "                                   'Eosinófilos': 'Eosinófilos (%)', 'Linfócitos':'Linfócitos (%)',\n",
    "                                   'Monócitos':'Monócitos (%)', 'Neutrófilos':'Neutrófilos (%)'}, inplace=True)"
   ]
  },
  {
   "cell_type": "code",
   "execution_count": 31,
   "metadata": {},
   "outputs": [],
   "source": [
    "df_einstein.rename(columns={'Basófilos #': 'Basófilos', 'Leucócitos #':'Leucócitos', \n",
    "                                   'Eosinófilos  #':'Eosinófilos','Linfócitos #':'Linfócitos',\n",
    "                                   'Monócitos #':'Monócitos', 'Neutrófilos  #':'Neutrófilos'}, inplace=True)"
   ]
  },
  {
   "cell_type": "code",
   "execution_count": 32,
   "metadata": {},
   "outputs": [
    {
     "name": "stderr",
     "output_type": "stream",
     "text": [
      "<ipython-input-32-05ec0ef1a96d>:3: SettingWithCopyWarning: \n",
      "A value is trying to be set on a copy of a slice from a DataFrame.\n",
      "Try using .loc[row_indexer,col_indexer] = value instead\n",
      "\n",
      "See the caveats in the documentation: https://pandas.pydata.org/pandas-docs/stable/user_guide/indexing.html#returning-a-view-versus-a-copy\n",
      "  df_einstein['Plaquetas'] = df_einstein['Plaquetas'] * (10**3)\n"
     ]
    }
   ],
   "source": [
    "#converting platelets unit\n",
    "\n",
    "df_einstein['Plaquetas'] = df_einstein['Plaquetas'] * (10**3)"
   ]
  },
  {
   "cell_type": "code",
   "execution_count": 61,
   "metadata": {},
   "outputs": [],
   "source": [
    "df_einstein = df_einstein.drop_duplicates()"
   ]
  },
  {
   "cell_type": "code",
   "execution_count": 56,
   "metadata": {},
   "outputs": [
    {
     "data": {
      "text/plain": [
       "Index(['Basófilos', 'Basófilos (%)', 'CHCM', 'DE_RESULTADO', 'Eosinófilos',\n",
       "       'Eosinófilos (%)', 'Eritrócitos', 'HCM', 'Hematócrito', 'Hemoglobina',\n",
       "       'IC_SEXO', 'Leucócitos', 'Linfócitos', 'Linfócitos (%)', 'Monócitos',\n",
       "       'Monócitos (%)', 'Neutrófilos', 'Neutrófilos (%)', 'Plaquetas', 'RDW',\n",
       "       'VCM', 'Volume plaquetário médio', 'idade'],\n",
       "      dtype='object')"
      ]
     },
     "execution_count": 56,
     "metadata": {},
     "output_type": "execute_result"
    }
   ],
   "source": [
    "df_fleury.columns.sort_values()"
   ]
  },
  {
   "cell_type": "code",
   "execution_count": 27,
   "metadata": {},
   "outputs": [],
   "source": [
    "df_einstein.to_csv('einstein_base_hem_pcr.csv')"
   ]
  },
  {
   "cell_type": "markdown",
   "metadata": {},
   "source": [
    "### fleury"
   ]
  },
  {
   "cell_type": "code",
   "execution_count": 45,
   "metadata": {},
   "outputs": [
    {
     "data": {
      "text/plain": [
       "{'Leucócitos (%)'}"
      ]
     },
     "execution_count": 45,
     "metadata": {},
     "output_type": "execute_result"
    }
   ],
   "source": [
    "set(df_einstein.columns) - set(df_hsl.columns)"
   ]
  },
  {
   "cell_type": "code",
   "execution_count": 41,
   "metadata": {},
   "outputs": [
    {
     "data": {
      "text/plain": [
       "Index(['Basófilos', 'Basófilos (%)', 'CHCM', 'Eosinófilos', 'Eosinófilos (%)',\n",
       "       'Eritrócitos', 'Hematócrito', 'Hemoglobina', 'HCM', 'Leucócitos',\n",
       "       'Linfócitos', 'Linfócitos (%)', 'Monócitos', 'Monócitos (%)',\n",
       "       'Neutrófilos', 'Neutrófilos (%)', 'Plaquetas', 'RDW', 'VCM',\n",
       "       'Volume plaquetário médio', 'DE_RESULTADO', 'idade', 'IC_SEXO'],\n",
       "      dtype='object')"
      ]
     },
     "execution_count": 41,
     "metadata": {},
     "output_type": "execute_result"
    }
   ],
   "source": [
    "df_fleury.columns"
   ]
  },
  {
   "cell_type": "code",
   "execution_count": 33,
   "metadata": {},
   "outputs": [],
   "source": [
    "df_fleury = df_fleury[['Basófilos', 'Basófilos (%)', 'Concentração de Hemoglobina Corpuscular', 'Eosinófilos',\n",
    "       'Eosinófilos (%)', 'Eritrócitos', 'Hematócrito', 'Hemoglobina', 'Hemoglobina Corpuscular Média',\n",
    "       'Leucócitos', 'Linfócitos', 'Linfócitos (%)','Monócitos',   'Monócitos (%)', 'Neutrófilos', 'Neutrófilos (%)', 'Plaquetas',\n",
    "       'RDW','VCM','Volume plaquetário médio', 'DE_RESULTADO', 'idade', 'IC_SEXO']]"
   ]
  },
  {
   "cell_type": "code",
   "execution_count": 34,
   "metadata": {},
   "outputs": [],
   "source": [
    "df_fleury.rename(columns= {'Concentração de Hemoglobina Corpuscular':'CHCM', \n",
    "                           'Hemoglobina Corpuscular Média':'HCM'}, inplace=True)"
   ]
  },
  {
   "cell_type": "code",
   "execution_count": null,
   "metadata": {},
   "outputs": [],
   "source": []
  },
  {
   "cell_type": "code",
   "execution_count": null,
   "metadata": {},
   "outputs": [],
   "source": []
  },
  {
   "cell_type": "markdown",
   "metadata": {},
   "source": [
    "### HSL"
   ]
  },
  {
   "cell_type": "code",
   "execution_count": 21,
   "metadata": {},
   "outputs": [
    {
     "data": {
      "text/plain": [
       "Index(['ID_PACIENTE', 'ID_ATENDIMENTO', 'DT_COLETA', 'DE_ORIGEM_x', 'DE_EXAME',\n",
       "       'DE_ANALITO', 'DE_RESULTADO', 'CD_UNIDADE', 'DE_VALOR_REFERENCIA',\n",
       "       'Bastonetes', 'Bastonetes (%)', 'Basófilos', 'Basófilos (%)', 'Blastos',\n",
       "       'Blastos (%)', 'CHCM', 'Eosinófilos', 'Eosinófilos (%)', 'Eritrócitos',\n",
       "       'Fração Imatura de Plaquetas', 'HCM', 'Hematócrito', 'Hemoglobina',\n",
       "       'Leucócitos', 'Linfócitos', 'Linfócitos (%)', 'Metamielócitos',\n",
       "       'Metamielócitos (%)', 'Mielócitos', 'Mielócitos (%)', 'Monócitos',\n",
       "       'Monócitos (%)', 'Neutrófilos', 'Neutrófilos (%)', 'Plaquetas',\n",
       "       'Plasmócitos (%)', 'Plasmóticos', 'Promielócitos', 'Promielócitos (%)',\n",
       "       'RDW', 'Segmentados', 'Segmentados (%)', 'VCM',\n",
       "       'Volume plaquetário médio', 'Índice de Green & King', 'dimero',\n",
       "       'DE_ORIGEM_y', 'proteina_c_reativa', 'IC_SEXO', 'idade'],\n",
       "      dtype='object')"
      ]
     },
     "execution_count": 21,
     "metadata": {},
     "output_type": "execute_result"
    }
   ],
   "source": [
    "df_hsl.columns"
   ]
  },
  {
   "cell_type": "code",
   "execution_count": 35,
   "metadata": {},
   "outputs": [],
   "source": [
    "df_hsl = df_hsl[['Basófilos', 'Basófilos (%)', 'CHCM', 'Eosinófilos',\n",
    "       'Eosinófilos (%)', 'Eritrócitos', 'Hematócrito', 'Hemoglobina', 'HCM',\n",
    "       'Leucócitos', 'Linfócitos', 'Linfócitos (%)','Monócitos',   'Monócitos (%)', 'Neutrófilos', 'Neutrófilos (%)', 'Plaquetas',\n",
    "       'RDW','VCM','Volume plaquetário médio', 'DE_RESULTADO', 'idade', 'IC_SEXO'\n",
    "        ]]"
   ]
  },
  {
   "cell_type": "code",
   "execution_count": null,
   "metadata": {},
   "outputs": [],
   "source": [
    "num_einstein = df_einstein.select_dtypes(include=['float64'])\n",
    "num_fleury = df_fleury.select_dtypes(include=['float64'])\n",
    "num_hsl = df_hsl.select_dtypes(include=['float64'])"
   ]
  },
  {
   "cell_type": "code",
   "execution_count": 65,
   "metadata": {},
   "outputs": [
    {
     "data": {
      "text/plain": [
       "25"
      ]
     },
     "execution_count": 65,
     "metadata": {},
     "output_type": "execute_result"
    }
   ],
   "source": [
    "len(df_einstein.columns)"
   ]
  },
  {
   "cell_type": "code",
   "execution_count": 68,
   "metadata": {},
   "outputs": [
    {
     "data": {
      "text/plain": [
       "Index(['CHCM', 'HCM', 'Hematócrito', 'Hemoglobina', 'Eritrócitos',\n",
       "       'Leucócitos', 'Plaquetas', 'RDW', 'VCM', 'Volume plaquetário médio',\n",
       "       'Basófilos (%)', 'Basófilos', 'Eosinófilos (%)', 'Eosinófilos',\n",
       "       'Linfócitos (%)', 'Linfócitos', 'Monócitos (%)', 'Monócitos',\n",
       "       'Neutrófilos (%)', 'Neutrófilos', 'DE_RESULTADO', 'idade', 'IC_SEXO',\n",
       "       'DE_RESULTADO'],\n",
       "      dtype='object')"
      ]
     },
     "execution_count": 68,
     "metadata": {},
     "output_type": "execute_result"
    }
   ],
   "source": [
    "df_einstein.drop(columns='Leucócitos (%)').drop_duplicates().columns"
   ]
  },
  {
   "cell_type": "code",
   "execution_count": 70,
   "metadata": {},
   "outputs": [],
   "source": [
    "df_einstein = df_einstein.loc[:,~df_einstein.columns.duplicated()]"
   ]
  },
  {
   "cell_type": "code",
   "execution_count": 71,
   "metadata": {},
   "outputs": [],
   "source": [
    "df_final  = pd.concat([df_einstein.drop(columns='Leucócitos (%)'),df_hsl,df_fleury], axis=0)"
   ]
  },
  {
   "cell_type": "code",
   "execution_count": 72,
   "metadata": {},
   "outputs": [
    {
     "data": {
      "text/html": [
       "<div>\n",
       "<style scoped>\n",
       "    .dataframe tbody tr th:only-of-type {\n",
       "        vertical-align: middle;\n",
       "    }\n",
       "\n",
       "    .dataframe tbody tr th {\n",
       "        vertical-align: top;\n",
       "    }\n",
       "\n",
       "    .dataframe thead th {\n",
       "        text-align: right;\n",
       "    }\n",
       "</style>\n",
       "<table border=\"1\" class=\"dataframe\">\n",
       "  <thead>\n",
       "    <tr style=\"text-align: right;\">\n",
       "      <th></th>\n",
       "      <th>CHCM</th>\n",
       "      <th>HCM</th>\n",
       "      <th>Hematócrito</th>\n",
       "      <th>Hemoglobina</th>\n",
       "      <th>Eritrócitos</th>\n",
       "      <th>Leucócitos</th>\n",
       "      <th>Plaquetas</th>\n",
       "      <th>RDW</th>\n",
       "      <th>VCM</th>\n",
       "      <th>Volume plaquetário médio</th>\n",
       "      <th>...</th>\n",
       "      <th>Eosinófilos</th>\n",
       "      <th>Linfócitos (%)</th>\n",
       "      <th>Linfócitos</th>\n",
       "      <th>Monócitos (%)</th>\n",
       "      <th>Monócitos</th>\n",
       "      <th>Neutrófilos (%)</th>\n",
       "      <th>Neutrófilos</th>\n",
       "      <th>DE_RESULTADO</th>\n",
       "      <th>idade</th>\n",
       "      <th>IC_SEXO</th>\n",
       "    </tr>\n",
       "  </thead>\n",
       "  <tbody>\n",
       "    <tr>\n",
       "      <th>0</th>\n",
       "      <td>34.7</td>\n",
       "      <td>31.6</td>\n",
       "      <td>40.6</td>\n",
       "      <td>14.1</td>\n",
       "      <td>4.46</td>\n",
       "      <td>4850.0</td>\n",
       "      <td>222000.0</td>\n",
       "      <td>11.6</td>\n",
       "      <td>91.0</td>\n",
       "      <td>8.4</td>\n",
       "      <td>...</td>\n",
       "      <td>184.0</td>\n",
       "      <td>24.4</td>\n",
       "      <td>1183.0</td>\n",
       "      <td>8.1</td>\n",
       "      <td>393.0</td>\n",
       "      <td>63.5</td>\n",
       "      <td>3080.0</td>\n",
       "      <td>0</td>\n",
       "      <td>52.0</td>\n",
       "      <td>M</td>\n",
       "    </tr>\n",
       "    <tr>\n",
       "      <th>1</th>\n",
       "      <td>33.9</td>\n",
       "      <td>30.9</td>\n",
       "      <td>40.4</td>\n",
       "      <td>13.7</td>\n",
       "      <td>4.44</td>\n",
       "      <td>5280.0</td>\n",
       "      <td>278000.0</td>\n",
       "      <td>11.9</td>\n",
       "      <td>91.0</td>\n",
       "      <td>10.2</td>\n",
       "      <td>...</td>\n",
       "      <td>79.0</td>\n",
       "      <td>26.7</td>\n",
       "      <td>1410.0</td>\n",
       "      <td>8.5</td>\n",
       "      <td>449.0</td>\n",
       "      <td>62.9</td>\n",
       "      <td>3321.0</td>\n",
       "      <td>0</td>\n",
       "      <td>31.0</td>\n",
       "      <td>F</td>\n",
       "    </tr>\n",
       "    <tr>\n",
       "      <th>2</th>\n",
       "      <td>32.6</td>\n",
       "      <td>26.4</td>\n",
       "      <td>39.9</td>\n",
       "      <td>13.0</td>\n",
       "      <td>4.93</td>\n",
       "      <td>4980.0</td>\n",
       "      <td>223000.0</td>\n",
       "      <td>14.4</td>\n",
       "      <td>80.9</td>\n",
       "      <td>10.6</td>\n",
       "      <td>...</td>\n",
       "      <td>0.0</td>\n",
       "      <td>32.9</td>\n",
       "      <td>1638.0</td>\n",
       "      <td>4.4</td>\n",
       "      <td>219.0</td>\n",
       "      <td>62.5</td>\n",
       "      <td>3112.0</td>\n",
       "      <td>1</td>\n",
       "      <td>51.0</td>\n",
       "      <td>F</td>\n",
       "    </tr>\n",
       "    <tr>\n",
       "      <th>3</th>\n",
       "      <td>35.1</td>\n",
       "      <td>30.7</td>\n",
       "      <td>47.9</td>\n",
       "      <td>16.8</td>\n",
       "      <td>5.48</td>\n",
       "      <td>7380.0</td>\n",
       "      <td>164000.0</td>\n",
       "      <td>12.9</td>\n",
       "      <td>87.4</td>\n",
       "      <td>11.0</td>\n",
       "      <td>...</td>\n",
       "      <td>59.0</td>\n",
       "      <td>28.9</td>\n",
       "      <td>2133.0</td>\n",
       "      <td>9.3</td>\n",
       "      <td>686.0</td>\n",
       "      <td>60.5</td>\n",
       "      <td>4465.0</td>\n",
       "      <td>0</td>\n",
       "      <td>65.0</td>\n",
       "      <td>M</td>\n",
       "    </tr>\n",
       "    <tr>\n",
       "      <th>4</th>\n",
       "      <td>35.2</td>\n",
       "      <td>30.2</td>\n",
       "      <td>41.5</td>\n",
       "      <td>14.6</td>\n",
       "      <td>4.84</td>\n",
       "      <td>4440.0</td>\n",
       "      <td>118000.0</td>\n",
       "      <td>11.8</td>\n",
       "      <td>85.7</td>\n",
       "      <td>11.2</td>\n",
       "      <td>...</td>\n",
       "      <td>178.0</td>\n",
       "      <td>48.3</td>\n",
       "      <td>2145.0</td>\n",
       "      <td>12.2</td>\n",
       "      <td>542.0</td>\n",
       "      <td>35.1</td>\n",
       "      <td>1558.0</td>\n",
       "      <td>1</td>\n",
       "      <td>61.0</td>\n",
       "      <td>M</td>\n",
       "    </tr>\n",
       "    <tr>\n",
       "      <th>...</th>\n",
       "      <td>...</td>\n",
       "      <td>...</td>\n",
       "      <td>...</td>\n",
       "      <td>...</td>\n",
       "      <td>...</td>\n",
       "      <td>...</td>\n",
       "      <td>...</td>\n",
       "      <td>...</td>\n",
       "      <td>...</td>\n",
       "      <td>...</td>\n",
       "      <td>...</td>\n",
       "      <td>...</td>\n",
       "      <td>...</td>\n",
       "      <td>...</td>\n",
       "      <td>...</td>\n",
       "      <td>...</td>\n",
       "      <td>...</td>\n",
       "      <td>...</td>\n",
       "      <td>...</td>\n",
       "      <td>...</td>\n",
       "      <td>...</td>\n",
       "    </tr>\n",
       "    <tr>\n",
       "      <th>2166</th>\n",
       "      <td>33.7</td>\n",
       "      <td>30.8</td>\n",
       "      <td>40.1</td>\n",
       "      <td>13.5</td>\n",
       "      <td>4.38</td>\n",
       "      <td>6610.0</td>\n",
       "      <td>269000.0</td>\n",
       "      <td>12.7</td>\n",
       "      <td>91.6</td>\n",
       "      <td>10.4</td>\n",
       "      <td>...</td>\n",
       "      <td>120.0</td>\n",
       "      <td>33.0</td>\n",
       "      <td>2180.0</td>\n",
       "      <td>6.5</td>\n",
       "      <td>430.0</td>\n",
       "      <td>58.2</td>\n",
       "      <td>3850.0</td>\n",
       "      <td>0</td>\n",
       "      <td>43.0</td>\n",
       "      <td>F</td>\n",
       "    </tr>\n",
       "    <tr>\n",
       "      <th>2167</th>\n",
       "      <td>35.1</td>\n",
       "      <td>32.0</td>\n",
       "      <td>42.2</td>\n",
       "      <td>14.8</td>\n",
       "      <td>4.62</td>\n",
       "      <td>5030.0</td>\n",
       "      <td>206000.0</td>\n",
       "      <td>11.9</td>\n",
       "      <td>91.3</td>\n",
       "      <td>10.9</td>\n",
       "      <td>...</td>\n",
       "      <td>190.0</td>\n",
       "      <td>41.7</td>\n",
       "      <td>2100.0</td>\n",
       "      <td>9.7</td>\n",
       "      <td>490.0</td>\n",
       "      <td>44.0</td>\n",
       "      <td>2210.0</td>\n",
       "      <td>0</td>\n",
       "      <td>39.0</td>\n",
       "      <td>M</td>\n",
       "    </tr>\n",
       "    <tr>\n",
       "      <th>2168</th>\n",
       "      <td>34.4</td>\n",
       "      <td>29.2</td>\n",
       "      <td>38.7</td>\n",
       "      <td>13.3</td>\n",
       "      <td>4.56</td>\n",
       "      <td>4850.0</td>\n",
       "      <td>201000.0</td>\n",
       "      <td>12.7</td>\n",
       "      <td>84.9</td>\n",
       "      <td>11.3</td>\n",
       "      <td>...</td>\n",
       "      <td>70.0</td>\n",
       "      <td>29.3</td>\n",
       "      <td>1420.0</td>\n",
       "      <td>15.3</td>\n",
       "      <td>740.0</td>\n",
       "      <td>53.4</td>\n",
       "      <td>2590.0</td>\n",
       "      <td>0</td>\n",
       "      <td>58.0</td>\n",
       "      <td>F</td>\n",
       "    </tr>\n",
       "    <tr>\n",
       "      <th>2169</th>\n",
       "      <td>33.3</td>\n",
       "      <td>28.4</td>\n",
       "      <td>40.6</td>\n",
       "      <td>13.5</td>\n",
       "      <td>4.75</td>\n",
       "      <td>5180.0</td>\n",
       "      <td>265000.0</td>\n",
       "      <td>12.5</td>\n",
       "      <td>85.5</td>\n",
       "      <td>9.2</td>\n",
       "      <td>...</td>\n",
       "      <td>160.0</td>\n",
       "      <td>31.1</td>\n",
       "      <td>1610.0</td>\n",
       "      <td>5.4</td>\n",
       "      <td>280.0</td>\n",
       "      <td>59.2</td>\n",
       "      <td>3070.0</td>\n",
       "      <td>0</td>\n",
       "      <td>25.0</td>\n",
       "      <td>F</td>\n",
       "    </tr>\n",
       "    <tr>\n",
       "      <th>2170</th>\n",
       "      <td>34.5</td>\n",
       "      <td>31.4</td>\n",
       "      <td>45.5</td>\n",
       "      <td>15.7</td>\n",
       "      <td>5.00</td>\n",
       "      <td>6240.0</td>\n",
       "      <td>299000.0</td>\n",
       "      <td>13.3</td>\n",
       "      <td>91.0</td>\n",
       "      <td>10.9</td>\n",
       "      <td>...</td>\n",
       "      <td>40.0</td>\n",
       "      <td>26.6</td>\n",
       "      <td>1660.0</td>\n",
       "      <td>10.1</td>\n",
       "      <td>630.0</td>\n",
       "      <td>62.4</td>\n",
       "      <td>3890.0</td>\n",
       "      <td>0</td>\n",
       "      <td>44.0</td>\n",
       "      <td>M</td>\n",
       "    </tr>\n",
       "  </tbody>\n",
       "</table>\n",
       "<p>8621 rows × 23 columns</p>\n",
       "</div>"
      ],
      "text/plain": [
       "      CHCM   HCM  Hematócrito  Hemoglobina  Eritrócitos  Leucócitos  \\\n",
       "0     34.7  31.6         40.6         14.1         4.46      4850.0   \n",
       "1     33.9  30.9         40.4         13.7         4.44      5280.0   \n",
       "2     32.6  26.4         39.9         13.0         4.93      4980.0   \n",
       "3     35.1  30.7         47.9         16.8         5.48      7380.0   \n",
       "4     35.2  30.2         41.5         14.6         4.84      4440.0   \n",
       "...    ...   ...          ...          ...          ...         ...   \n",
       "2166  33.7  30.8         40.1         13.5         4.38      6610.0   \n",
       "2167  35.1  32.0         42.2         14.8         4.62      5030.0   \n",
       "2168  34.4  29.2         38.7         13.3         4.56      4850.0   \n",
       "2169  33.3  28.4         40.6         13.5         4.75      5180.0   \n",
       "2170  34.5  31.4         45.5         15.7         5.00      6240.0   \n",
       "\n",
       "      Plaquetas   RDW   VCM  Volume plaquetário médio  ...  Eosinófilos  \\\n",
       "0      222000.0  11.6  91.0                       8.4  ...        184.0   \n",
       "1      278000.0  11.9  91.0                      10.2  ...         79.0   \n",
       "2      223000.0  14.4  80.9                      10.6  ...          0.0   \n",
       "3      164000.0  12.9  87.4                      11.0  ...         59.0   \n",
       "4      118000.0  11.8  85.7                      11.2  ...        178.0   \n",
       "...         ...   ...   ...                       ...  ...          ...   \n",
       "2166   269000.0  12.7  91.6                      10.4  ...        120.0   \n",
       "2167   206000.0  11.9  91.3                      10.9  ...        190.0   \n",
       "2168   201000.0  12.7  84.9                      11.3  ...         70.0   \n",
       "2169   265000.0  12.5  85.5                       9.2  ...        160.0   \n",
       "2170   299000.0  13.3  91.0                      10.9  ...         40.0   \n",
       "\n",
       "      Linfócitos (%)  Linfócitos  Monócitos (%)  Monócitos  Neutrófilos (%)  \\\n",
       "0               24.4      1183.0            8.1      393.0             63.5   \n",
       "1               26.7      1410.0            8.5      449.0             62.9   \n",
       "2               32.9      1638.0            4.4      219.0             62.5   \n",
       "3               28.9      2133.0            9.3      686.0             60.5   \n",
       "4               48.3      2145.0           12.2      542.0             35.1   \n",
       "...              ...         ...            ...        ...              ...   \n",
       "2166            33.0      2180.0            6.5      430.0             58.2   \n",
       "2167            41.7      2100.0            9.7      490.0             44.0   \n",
       "2168            29.3      1420.0           15.3      740.0             53.4   \n",
       "2169            31.1      1610.0            5.4      280.0             59.2   \n",
       "2170            26.6      1660.0           10.1      630.0             62.4   \n",
       "\n",
       "      Neutrófilos  DE_RESULTADO  idade  IC_SEXO  \n",
       "0          3080.0             0   52.0        M  \n",
       "1          3321.0             0   31.0        F  \n",
       "2          3112.0             1   51.0        F  \n",
       "3          4465.0             0   65.0        M  \n",
       "4          1558.0             1   61.0        M  \n",
       "...           ...           ...    ...      ...  \n",
       "2166       3850.0             0   43.0        F  \n",
       "2167       2210.0             0   39.0        M  \n",
       "2168       2590.0             0   58.0        F  \n",
       "2169       3070.0             0   25.0        F  \n",
       "2170       3890.0             0   44.0        M  \n",
       "\n",
       "[8621 rows x 23 columns]"
      ]
     },
     "execution_count": 72,
     "metadata": {},
     "output_type": "execute_result"
    }
   ],
   "source": [
    "df_final"
   ]
  },
  {
   "cell_type": "code",
   "execution_count": 73,
   "metadata": {},
   "outputs": [],
   "source": [
    "df_final.to_csv('1ocorrencia_hem_pcr_total.csv', index=False)"
   ]
  },
  {
   "cell_type": "code",
   "execution_count": 53,
   "metadata": {},
   "outputs": [
    {
     "data": {
      "text/plain": [
       "{'Leucócitos (%)'}"
      ]
     },
     "execution_count": 53,
     "metadata": {},
     "output_type": "execute_result"
    }
   ],
   "source": [
    "set(df_einstein.columns) - set(df_final.columns) "
   ]
  },
  {
   "cell_type": "code",
   "execution_count": 50,
   "metadata": {},
   "outputs": [],
   "source": [
    "df_final.to_csv('database_filtrado_1ocorrencia.csv', index=False)"
   ]
  },
  {
   "cell_type": "code",
   "execution_count": null,
   "metadata": {},
   "outputs": [],
   "source": [
    "num_einstein.describe()"
   ]
  },
  {
   "cell_type": "code",
   "execution_count": null,
   "metadata": {},
   "outputs": [],
   "source": [
    "num_hsl.describe()"
   ]
  },
  {
   "cell_type": "code",
   "execution_count": 4,
   "metadata": {},
   "outputs": [],
   "source": [
    "df = pd.read_csv('database_filtrado_1ocorrencia.csv')"
   ]
  },
  {
   "cell_type": "code",
   "execution_count": 5,
   "metadata": {},
   "outputs": [
    {
     "name": "stdout",
     "output_type": "stream",
     "text": [
      "<class 'pandas.core.frame.DataFrame'>\n",
      "RangeIndex: 2637 entries, 0 to 2636\n",
      "Data columns (total 26 columns):\n",
      " #   Column                    Non-Null Count  Dtype  \n",
      "---  ------                    --------------  -----  \n",
      " 0   Basófilos                 2637 non-null   float64\n",
      " 1   Basófilos (%)             2637 non-null   float64\n",
      " 2   CHCM                      2637 non-null   float64\n",
      " 3   Eosinófilos               2637 non-null   float64\n",
      " 4   Eosinófilos (%)           2637 non-null   float64\n",
      " 5   Eritrócitos               2637 non-null   float64\n",
      " 6   Hematócrito               2637 non-null   float64\n",
      " 7   Hemoglobina               2637 non-null   float64\n",
      " 8   HCM                       2637 non-null   float64\n",
      " 9   Leucócitos                2637 non-null   float64\n",
      " 10  Linfócitos                2637 non-null   float64\n",
      " 11  Linfócitos (%)            2637 non-null   float64\n",
      " 12  Monócitos                 2637 non-null   float64\n",
      " 13  Monócitos (%)             2637 non-null   float64\n",
      " 14  Neutrófilos               2637 non-null   float64\n",
      " 15  Neutrófilos (%)           2637 non-null   float64\n",
      " 16  Plaquetas                 2637 non-null   float64\n",
      " 17  RDW                       2635 non-null   float64\n",
      " 18  VCM                       2637 non-null   float64\n",
      " 19  Volume plaquetário médio  2615 non-null   float64\n",
      " 20  DE_RESULTADO              2637 non-null   int64  \n",
      " 21  idade                     2605 non-null   float64\n",
      " 22  IC_SEXO                   2637 non-null   object \n",
      " 23  dimero                    2636 non-null   float64\n",
      " 24  proteina_c_reativa        621 non-null    float64\n",
      " 25  Leucócitos (%)            2016 non-null   float64\n",
      "dtypes: float64(24), int64(1), object(1)\n",
      "memory usage: 535.8+ KB\n"
     ]
    }
   ],
   "source": [
    "df.info()"
   ]
  },
  {
   "cell_type": "code",
   "execution_count": null,
   "metadata": {},
   "outputs": [],
   "source": []
  },
  {
   "cell_type": "code",
   "execution_count": null,
   "metadata": {},
   "outputs": [],
   "source": []
  },
  {
   "cell_type": "markdown",
   "metadata": {},
   "source": [
    "### matriz de correlação dos features do hemograma p cada hospital"
   ]
  },
  {
   "cell_type": "code",
   "execution_count": null,
   "metadata": {
    "scrolled": true
   },
   "outputs": [],
   "source": [
    "\n",
    "plt.subplots(figsize=(15,10))\n",
    "corrMatrix = num_einstein.corr()\n",
    "sns.heatmap(corrMatrix, annot=True)\n",
    "plt.title('einstein corr matrix')\n",
    "plt.show()"
   ]
  },
  {
   "cell_type": "code",
   "execution_count": null,
   "metadata": {},
   "outputs": [],
   "source": [
    "plt.subplots(figsize=(15,10))\n",
    "corrMatrix = num_fleury.corr()\n",
    "sns.heatmap(corrMatrix, annot=True)\n",
    "plt.title('fleury corr matrix')\n",
    "plt.show()"
   ]
  },
  {
   "cell_type": "code",
   "execution_count": null,
   "metadata": {},
   "outputs": [],
   "source": [
    "plt.subplots(figsize=(15,10))\n",
    "corrMatrix = num_hsl.corr()\n",
    "sns.heatmap(corrMatrix, annot=True)\n",
    "plt.title('hsl corr matrix')\n",
    "plt.show()"
   ]
  },
  {
   "cell_type": "code",
   "execution_count": null,
   "metadata": {},
   "outputs": [],
   "source": [
    "df = pd.concat([df_einstein, df_fleury, df_hsl])"
   ]
  },
  {
   "cell_type": "code",
   "execution_count": 147,
   "metadata": {},
   "outputs": [],
   "source": [
    "df.to_csv('hemogramas_pcr_einstein_fleury_hsl.csv')"
   ]
  },
  {
   "cell_type": "code",
   "execution_count": null,
   "metadata": {},
   "outputs": [],
   "source": [
    "num_df = df.select_dtypes(include=['float64'])"
   ]
  },
  {
   "cell_type": "code",
   "execution_count": null,
   "metadata": {},
   "outputs": [],
   "source": [
    "plt.subplots(figsize=(16,12))\n",
    "corrMatrix = num_df.corr()\n",
    "sns.heatmap(corrMatrix, annot=True)\n",
    "plt.title('total corr matrix')\n",
    "plt.show()"
   ]
  },
  {
   "cell_type": "markdown",
   "metadata": {},
   "source": [
    "## Model"
   ]
  },
  {
   "cell_type": "markdown",
   "metadata": {},
   "source": [
    "excluding highly correlated features"
   ]
  },
  {
   "cell_type": "code",
   "execution_count": null,
   "metadata": {},
   "outputs": [],
   "source": [
    "df.columns"
   ]
  },
  {
   "cell_type": "code",
   "execution_count": null,
   "metadata": {},
   "outputs": [],
   "source": [
    "df['idade'] = 2020 - pd.to_numeric(df['AA_NASCIMENTO'], errors='coerce')"
   ]
  },
  {
   "cell_type": "code",
   "execution_count": null,
   "metadata": {},
   "outputs": [],
   "source": [
    "df['resultado'] = df.DE_RESULTADO.replace(['Não detectado', 'Detectado', 'NÃO DETECTADO',\n",
    "       'NÃO DETECTADO (NEGATIVO)', 'DETECTADO', 'DETECTADO (POSITIVO)'],\n",
    "                                         [0, 1, 0, 0, 1,1])"
   ]
  },
  {
   "cell_type": "code",
   "execution_count": null,
   "metadata": {},
   "outputs": [],
   "source": [
    "df.rename(columns={'IC_SEXO':'sexo'}, inplace=True)"
   ]
  },
  {
   "cell_type": "code",
   "execution_count": null,
   "metadata": {},
   "outputs": [],
   "source": [
    "df = df[['CHCM', 'HCM', 'Hematócrito', 'Hemoglobina', 'Eritrócitos',\n",
    "        'Leucócitos', 'Plaquetas', 'RDW', 'VCM',\n",
    "       'Volume plaquetário médio', 'Basófilos',\n",
    "        'Eosinófilos', 'Linfócitos','Monócitos', 'Neutrófilos',\n",
    "       'resultado', 'idade', 'sexo']]"
   ]
  },
  {
   "cell_type": "code",
   "execution_count": null,
   "metadata": {},
   "outputs": [],
   "source": [
    "num_df = df.select_dtypes(include=['float64'])"
   ]
  },
  {
   "cell_type": "code",
   "execution_count": null,
   "metadata": {},
   "outputs": [],
   "source": [
    "cat_df = df.select_dtypes(include=['object'])"
   ]
  },
  {
   "cell_type": "code",
   "execution_count": null,
   "metadata": {},
   "outputs": [],
   "source": [
    "numeric_features_list = list(num_df.columns)"
   ]
  },
  {
   "cell_type": "code",
   "execution_count": null,
   "metadata": {},
   "outputs": [],
   "source": [
    "cat_features_list = list(cat_df.columns)"
   ]
  },
  {
   "cell_type": "code",
   "execution_count": null,
   "metadata": {},
   "outputs": [],
   "source": [
    "plt.subplots()\n",
    "df.resultado.value_counts().plot(kind='bar')"
   ]
  },
  {
   "cell_type": "code",
   "execution_count": null,
   "metadata": {},
   "outputs": [],
   "source": [
    "from sklearn.model_selection import train_test_split\n",
    "from sklearn.compose import ColumnTransformer\n",
    "from sklearn.pipeline import Pipeline\n",
    "from sklearn.preprocessing import FunctionTransformer\n",
    "from sklearn.preprocessing import RobustScaler\n",
    "from sklearn.impute import SimpleImputer"
   ]
  },
  {
   "cell_type": "code",
   "execution_count": null,
   "metadata": {},
   "outputs": [],
   "source": [
    "df['sexo'] = df['sexo'].replace(['M', 'F'], [0, 1])"
   ]
  },
  {
   "cell_type": "code",
   "execution_count": null,
   "metadata": {},
   "outputs": [],
   "source": [
    "numeric_transformer = Pipeline(steps = [('imputer', SimpleImputer(strategy='median')),\n",
    "                                        ('scaler', RobustScaler())\n",
    "                                            ])\n",
    "\n",
    "preprocessor = ColumnTransformer(\n",
    "                        transformers = [\n",
    "                                ('num', numeric_transformer, numeric_features_list),\n",
    "                        ])"
   ]
  },
  {
   "cell_type": "code",
   "execution_count": null,
   "metadata": {},
   "outputs": [],
   "source": [
    "X = df.drop(columns='resultado')\n",
    "\n",
    "y = df['resultado']\n",
    "\n",
    "X_train, X_test, y_train, y_test = train_test_split( X, y , test_size = 0.33 , random_state = 42, stratify=y )"
   ]
  },
  {
   "cell_type": "markdown",
   "metadata": {},
   "source": [
    "# RandomForest - Randomized Grid Search"
   ]
  },
  {
   "cell_type": "code",
   "execution_count": null,
   "metadata": {},
   "outputs": [],
   "source": [
    "from sklearn.ensemble import RandomForestClassifier\n",
    "from sklearn.model_selection import cross_val_score, GridSearchCV,  RandomizedSearchCV\n"
   ]
  },
  {
   "cell_type": "code",
   "execution_count": null,
   "metadata": {},
   "outputs": [],
   "source": [
    "# Number of trees in Random Forest\n",
    "rf_n_estimators = [int(x) for x in np.linspace(20, 1000, 10)]\n",
    "\n",
    "\n",
    "# Maximum number of levels in tree\n",
    "rf_max_depth = [int(x) for x in np.linspace(5, 55, 11)]\n",
    "# Add the default as a possible value\n",
    "rf_max_depth.append(None)\n",
    "\n",
    "# Number of features to consider at every split\n",
    "rf_max_features = ['auto', 'sqrt', 'log2']\n",
    "\n",
    "# Criterion to split on\n",
    "rf_criterion = ['gini', 'entropy']\n",
    "\n",
    "# Minimum number of samples required to split a node\n",
    "rf_min_samples_split = [int(x) for x in np.linspace(2, 10, 9)]\n",
    "\n",
    "# Minimum decrease in impurity required for split to happen\n",
    "rf_min_impurity_decrease = [0.0, 0.05, 0.1]\n",
    "\n",
    "# Method of selecting samples for training each tree\n",
    "rf_bootstrap = [True, False]\n",
    "\n",
    "# Create the grid\n",
    "rf_grid = {'estimator__n_estimators': rf_n_estimators,\n",
    "               'estimator__max_depth': rf_max_depth,\n",
    "               'estimator__max_features': rf_max_features,\n",
    "               'estimator__criterion': rf_criterion,\n",
    "               'estimator__min_samples_split': rf_min_samples_split,\n",
    "               'estimator__min_impurity_decrease': rf_min_impurity_decrease,\n",
    "               'estimator__bootstrap': rf_bootstrap}"
   ]
  },
  {
   "cell_type": "code",
   "execution_count": 133,
   "metadata": {
    "scrolled": true
   },
   "outputs": [
    {
     "name": "stdout",
     "output_type": "stream",
     "text": [
      "Fitting 10 folds for each of 100 candidates, totalling 1000 fits\n"
     ]
    },
    {
     "name": "stderr",
     "output_type": "stream",
     "text": [
      "[Parallel(n_jobs=-1)]: Using backend LokyBackend with 4 concurrent workers.\n",
      "[Parallel(n_jobs=-1)]: Done  33 tasks      | elapsed:  2.4min\n",
      "[Parallel(n_jobs=-1)]: Done 154 tasks      | elapsed: 11.0min\n",
      "[Parallel(n_jobs=-1)]: Done 357 tasks      | elapsed: 20.2min\n",
      "[Parallel(n_jobs=-1)]: Done 640 tasks      | elapsed: 31.7min\n",
      "[Parallel(n_jobs=-1)]: Done 1000 out of 1000 | elapsed: 50.7min finished\n"
     ]
    },
    {
     "data": {
      "text/plain": [
       "{'estimator__n_estimators': 20,\n",
       " 'estimator__min_samples_split': 5,\n",
       " 'estimator__min_impurity_decrease': 0.1,\n",
       " 'estimator__max_features': 'log2',\n",
       " 'estimator__max_depth': 50,\n",
       " 'estimator__criterion': 'gini',\n",
       " 'estimator__bootstrap': False}"
      ]
     },
     "execution_count": 133,
     "metadata": {},
     "output_type": "execute_result"
    }
   ],
   "source": [
    "# Create the model to be tuned\n",
    "# rf_base = RandomForestClassifier()\n",
    "\n",
    "clf_rf = RandomForestClassifier(class_weight='balanced')       \n",
    "\n",
    "pipe_rf = Pipeline(steps=[\n",
    "    ('preprocess', preprocessor),\n",
    "    ('estimator', clf_rf)\n",
    "])\n",
    "\n",
    "\n",
    "\n",
    "\n",
    "\n",
    "# Create the random search Random Forest\n",
    "rf_random = RandomizedSearchCV(estimator = pipe_rf, param_distributions = rf_grid, \n",
    "                               n_iter = 100, cv = 10, verbose = 2, random_state = 42, \n",
    "                               n_jobs = -1, scoring='recall')\n",
    "\n",
    "# Fit the random search model\n",
    "rf_random.fit(X_train, y_train)\n",
    "\n",
    "# View the best parameters from the random search\n",
    "rf_random.best_params_"
   ]
  },
  {
   "cell_type": "code",
   "execution_count": null,
   "metadata": {},
   "outputs": [],
   "source": []
  },
  {
   "cell_type": "code",
   "execution_count": 134,
   "metadata": {},
   "outputs": [
    {
     "data": {
      "text/plain": [
       "{'estimator__n_estimators': 20,\n",
       " 'estimator__min_samples_split': 5,\n",
       " 'estimator__min_impurity_decrease': 0.1,\n",
       " 'estimator__max_features': 'log2',\n",
       " 'estimator__max_depth': 50,\n",
       " 'estimator__criterion': 'gini',\n",
       " 'estimator__bootstrap': False}"
      ]
     },
     "execution_count": 134,
     "metadata": {},
     "output_type": "execute_result"
    }
   ],
   "source": [
    "rf_random.best_params_"
   ]
  },
  {
   "cell_type": "code",
   "execution_count": null,
   "metadata": {},
   "outputs": [],
   "source": []
  },
  {
   "cell_type": "code",
   "execution_count": 135,
   "metadata": {},
   "outputs": [],
   "source": [
    "pipe_rf_final = rf_random.best_estimator_"
   ]
  },
  {
   "cell_type": "code",
   "execution_count": 136,
   "metadata": {},
   "outputs": [
    {
     "data": {
      "text/plain": [
       "Pipeline(steps=[('preprocess',\n",
       "                 ColumnTransformer(transformers=[('num',\n",
       "                                                  Pipeline(steps=[('imputer',\n",
       "                                                                   SimpleImputer(strategy='median')),\n",
       "                                                                  ('scaler',\n",
       "                                                                   RobustScaler())]),\n",
       "                                                  ['CHCM', 'HCM', 'Hematócrito',\n",
       "                                                   'Hemoglobina', 'Eritrócitos',\n",
       "                                                   'Leucócitos', 'Plaquetas',\n",
       "                                                   'RDW', 'VCM',\n",
       "                                                   'Volume plaquetário médio',\n",
       "                                                   'Basófilos', 'Eosinófilos',\n",
       "                                                   'Linfócitos', 'Monócitos',\n",
       "                                                   'Neutrófilos', 'idade'])])),\n",
       "                ('estimator',\n",
       "                 RandomForestClassifier(bootstrap=False,\n",
       "                                        class_weight='balanced', max_depth=50,\n",
       "                                        max_features='log2',\n",
       "                                        min_impurity_decrease=0.1,\n",
       "                                        min_samples_split=5,\n",
       "                                        n_estimators=20))])"
      ]
     },
     "execution_count": 136,
     "metadata": {},
     "output_type": "execute_result"
    }
   ],
   "source": [
    "pipe_rf_final.fit(X_train, y_train)"
   ]
  },
  {
   "cell_type": "code",
   "execution_count": 130,
   "metadata": {},
   "outputs": [],
   "source": [
    "def performance_test(model_name, model, x_test, y_test):\n",
    "    # predcitions\n",
    "    yhat = model.predict(x_test)\n",
    "    \n",
    "    # Performance metrics\n",
    "    precision = precision_score(y_test, yhat)\n",
    "    recall = recall_score(y_test, yhat)\n",
    "    f1 = f1_score(y_test, yhat)\n",
    "    roc_auc = roc_auc_score(y_test, yhat)\n",
    "    mcc = matthews_corrcoef(y_test, yhat)\n",
    "\n",
    "    # Performance dataframe\n",
    "    performance_df = pd.DataFrame({'precision': precision, 'recall': recall, 'f1_score': f1, \n",
    "                               'roc_auc_score': roc_auc, 'mcc': mcc}, index=[model_name])\n",
    "\n",
    "    # confusion matrix\n",
    "    #cm = confusion_matrix(y_test, yhat)\n",
    "\n",
    "    # dataframe for heatmap\n",
    "    #cm_df = pd.DataFrame(cm, columns=['predicted_not_covid', 'predicted_covid'], \n",
    "    #                     index=['actual_not_covid', 'actual_covid'])\n",
    "    \n",
    "    return performance_df\n",
    "#, cm_df"
   ]
  },
  {
   "cell_type": "code",
   "execution_count": 140,
   "metadata": {},
   "outputs": [
    {
     "data": {
      "text/html": [
       "<div>\n",
       "<style scoped>\n",
       "    .dataframe tbody tr th:only-of-type {\n",
       "        vertical-align: middle;\n",
       "    }\n",
       "\n",
       "    .dataframe tbody tr th {\n",
       "        vertical-align: top;\n",
       "    }\n",
       "\n",
       "    .dataframe thead th {\n",
       "        text-align: right;\n",
       "    }\n",
       "</style>\n",
       "<table border=\"1\" class=\"dataframe\">\n",
       "  <thead>\n",
       "    <tr style=\"text-align: right;\">\n",
       "      <th></th>\n",
       "      <th>precision</th>\n",
       "      <th>recall</th>\n",
       "      <th>f1_score</th>\n",
       "      <th>roc_auc_score</th>\n",
       "      <th>mcc</th>\n",
       "    </tr>\n",
       "  </thead>\n",
       "  <tbody>\n",
       "    <tr>\n",
       "      <th>RandomForest</th>\n",
       "      <td>0.000</td>\n",
       "      <td>0.000</td>\n",
       "      <td>0.000</td>\n",
       "      <td>0.500</td>\n",
       "      <td>0.000</td>\n",
       "    </tr>\n",
       "  </tbody>\n",
       "</table>\n",
       "</div>"
      ],
      "text/plain": [
       "              precision  recall  f1_score  roc_auc_score   mcc\n",
       "RandomForest      0.000   0.000     0.000          0.500 0.000"
      ]
     },
     "execution_count": 140,
     "metadata": {},
     "output_type": "execute_result"
    }
   ],
   "source": [
    "performance_test('RandomForest', pipe_rf_final, X_test, y_test)"
   ]
  },
  {
   "cell_type": "code",
   "execution_count": null,
   "metadata": {},
   "outputs": [],
   "source": [
    "monitor_table(y_test, pipe_rf_final.predict(X_test), pipe_rf_final.predict_proba(X_test)[:,1])"
   ]
  },
  {
   "cell_type": "markdown",
   "metadata": {},
   "source": [
    "# XGBoost"
   ]
  },
  {
   "cell_type": "code",
   "execution_count": null,
   "metadata": {},
   "outputs": [],
   "source": [
    "# Number of trees to be used\n",
    "xgb_n_estimators = [int(x) for x in np.linspace(20, 1000, 10)]\n",
    "\n",
    "# Maximum number of levels in tree\n",
    "xgb_max_depth = [int(x) for x in np.linspace(2, 20, 10)]\n",
    "\n",
    "# Minimum number of instaces needed in each node\n",
    "xgb_min_child_weight = [int(x) for x in np.linspace(1, 10, 10)]\n",
    "\n",
    "# Tree construction algorithm used in XGBoost\n",
    "xgb_tree_method = ['auto', 'exact', 'approx', 'hist', 'gpu_hist']\n",
    "\n",
    "# Learning rate\n",
    "xgb_eta = [x for x in np.linspace(0.1, 0.6, 6)]\n",
    "\n",
    "# Minimum loss reduction required to make further partition\n",
    "xgb_gamma = [int(x) for x in np.linspace(0, 0.5, 6)]\n",
    "\n",
    "\n",
    "\n",
    "# Create the grid\n",
    "xgb_grid = {'estimator__n_estimators': xgb_n_estimators,\n",
    "            'estimator__max_depth': xgb_max_depth,\n",
    "            'estimator__min_child_weight': xgb_min_child_weight,\n",
    "            'estimator__tree_method': xgb_tree_method,\n",
    "            'estimator__eta': xgb_eta,\n",
    "            'estimator__gamma': xgb_gamma}"
   ]
  },
  {
   "cell_type": "code",
   "execution_count": null,
   "metadata": {},
   "outputs": [],
   "source": [
    "from xgboost import XGBClassifier"
   ]
  },
  {
   "cell_type": "code",
   "execution_count": null,
   "metadata": {},
   "outputs": [],
   "source": [
    "# Create the model to be tuned\n",
    "clf_xgb= XGBClassifier(scale_pos_weight=y.value_counts()[0]/y.value_counts()[1], objective='binary:logistic')\n",
    "\n",
    "\n",
    "pipe_xgb = Pipeline(steps=[\n",
    "    ('preprocess', preprocessor),\n",
    "    ('estimator', clf_xgb)\n",
    "    ])\n",
    "\n",
    "\n",
    "\n",
    "# Create the random search Random Forest\n",
    "xgb_random = RandomizedSearchCV(estimator = pipe_xgb, param_distributions = xgb_grid, \n",
    "                                n_iter = 200, cv = 10, verbose = 2, \n",
    "                                random_state = 420, n_jobs = -1)\n",
    "\n",
    "# Fit the random search model\n",
    "xgb_random.fit(X_train, y_train)\n",
    "\n",
    "# Get the optimal parameters\n",
    "xgb_random.best_params_"
   ]
  },
  {
   "cell_type": "code",
   "execution_count": null,
   "metadata": {},
   "outputs": [],
   "source": [
    "xgb_random.best_estimator_"
   ]
  },
  {
   "cell_type": "code",
   "execution_count": null,
   "metadata": {},
   "outputs": [],
   "source": [
    "\n",
    "pipe_xgb_final = xgb_random.best_estimator_\n"
   ]
  },
  {
   "cell_type": "code",
   "execution_count": null,
   "metadata": {},
   "outputs": [],
   "source": [
    "pipe_xgb_final.fit(X_train, y_train)"
   ]
  },
  {
   "cell_type": "markdown",
   "metadata": {},
   "source": [
    "# Model Performance"
   ]
  },
  {
   "cell_type": "code",
   "execution_count": 125,
   "metadata": {},
   "outputs": [
    {
     "data": {
      "text/html": [
       "<div>\n",
       "<style scoped>\n",
       "    .dataframe tbody tr th:only-of-type {\n",
       "        vertical-align: middle;\n",
       "    }\n",
       "\n",
       "    .dataframe tbody tr th {\n",
       "        vertical-align: top;\n",
       "    }\n",
       "\n",
       "    .dataframe thead th {\n",
       "        text-align: right;\n",
       "    }\n",
       "</style>\n",
       "<table border=\"1\" class=\"dataframe\">\n",
       "  <thead>\n",
       "    <tr style=\"text-align: right;\">\n",
       "      <th></th>\n",
       "      <th>precision</th>\n",
       "      <th>recall</th>\n",
       "      <th>f1_score</th>\n",
       "      <th>roc_auc_score</th>\n",
       "      <th>mcc</th>\n",
       "    </tr>\n",
       "  </thead>\n",
       "  <tbody>\n",
       "    <tr>\n",
       "      <th>xgboost</th>\n",
       "      <td>0.650</td>\n",
       "      <td>0.624</td>\n",
       "      <td>0.636</td>\n",
       "      <td>0.746</td>\n",
       "      <td>0.499</td>\n",
       "    </tr>\n",
       "  </tbody>\n",
       "</table>\n",
       "</div>"
      ],
      "text/plain": [
       "         precision  recall  f1_score  roc_auc_score   mcc\n",
       "xgboost      0.650   0.624     0.636          0.746 0.499"
      ]
     },
     "execution_count": 125,
     "metadata": {},
     "output_type": "execute_result"
    }
   ],
   "source": [
    "performance_test('xgboost', pipe_xgb_final, X_test, y_test)"
   ]
  },
  {
   "cell_type": "code",
   "execution_count": 138,
   "metadata": {},
   "outputs": [],
   "source": [
    "from metrics_monitor import monitor_table"
   ]
  },
  {
   "cell_type": "code",
   "execution_count": 139,
   "metadata": {},
   "outputs": [
    {
     "data": {
      "text/html": [
       "<div>\n",
       "<style scoped>\n",
       "    .dataframe tbody tr th:only-of-type {\n",
       "        vertical-align: middle;\n",
       "    }\n",
       "\n",
       "    .dataframe tbody tr th {\n",
       "        vertical-align: top;\n",
       "    }\n",
       "\n",
       "    .dataframe thead th {\n",
       "        text-align: right;\n",
       "    }\n",
       "</style>\n",
       "<table border=\"1\" class=\"dataframe\">\n",
       "  <thead>\n",
       "    <tr style=\"text-align: right;\">\n",
       "      <th></th>\n",
       "      <th>value</th>\n",
       "    </tr>\n",
       "    <tr>\n",
       "      <th>metric</th>\n",
       "      <th></th>\n",
       "    </tr>\n",
       "  </thead>\n",
       "  <tbody>\n",
       "    <tr>\n",
       "      <th>Ground Truth Prevalence</th>\n",
       "      <td>0.280</td>\n",
       "    </tr>\n",
       "    <tr>\n",
       "      <th>Test set Prevalence</th>\n",
       "      <td>0.269</td>\n",
       "    </tr>\n",
       "    <tr>\n",
       "      <th>True positive rate (recall)</th>\n",
       "      <td>0.624</td>\n",
       "    </tr>\n",
       "    <tr>\n",
       "      <th>False positive rate</th>\n",
       "      <td>0.131</td>\n",
       "    </tr>\n",
       "    <tr>\n",
       "      <th>Positive predictive value (precision)</th>\n",
       "      <td>0.650</td>\n",
       "    </tr>\n",
       "    <tr>\n",
       "      <th>True negative rate (specificity)</th>\n",
       "      <td>0.869</td>\n",
       "    </tr>\n",
       "    <tr>\n",
       "      <th>False negative rate</th>\n",
       "      <td>0.376</td>\n",
       "    </tr>\n",
       "    <tr>\n",
       "      <th>Negative predictive value</th>\n",
       "      <td>0.856</td>\n",
       "    </tr>\n",
       "    <tr>\n",
       "      <th>Positive likelihood ratio (bigger is better)</th>\n",
       "      <td>4.770</td>\n",
       "    </tr>\n",
       "    <tr>\n",
       "      <th>Negative likelihood ratio (smaller is better)</th>\n",
       "      <td>0.433</td>\n",
       "    </tr>\n",
       "    <tr>\n",
       "      <th>Diagnostic odds ratio</th>\n",
       "      <td>11.018</td>\n",
       "    </tr>\n",
       "    <tr>\n",
       "      <th>Accuracy</th>\n",
       "      <td>0.801</td>\n",
       "    </tr>\n",
       "    <tr>\n",
       "      <th>F1 score</th>\n",
       "      <td>0.636</td>\n",
       "    </tr>\n",
       "    <tr>\n",
       "      <th>Accuracy</th>\n",
       "      <td>0.801</td>\n",
       "    </tr>\n",
       "    <tr>\n",
       "      <th>ROC AUC</th>\n",
       "      <td>0.825</td>\n",
       "    </tr>\n",
       "    <tr>\n",
       "      <th>Scaled Brier Score</th>\n",
       "      <td>0.246</td>\n",
       "    </tr>\n",
       "    <tr>\n",
       "      <th>Hosmer_Lemeshow p-value</th>\n",
       "      <td>0.000</td>\n",
       "    </tr>\n",
       "    <tr>\n",
       "      <th>Spiegelhalter p-value</th>\n",
       "      <td>0.000</td>\n",
       "    </tr>\n",
       "  </tbody>\n",
       "</table>\n",
       "</div>"
      ],
      "text/plain": [
       "                                               value\n",
       "metric                                              \n",
       "Ground Truth Prevalence                        0.280\n",
       "Test set Prevalence                            0.269\n",
       "True positive rate (recall)                    0.624\n",
       "False positive rate                            0.131\n",
       "Positive predictive value (precision)          0.650\n",
       "True negative rate (specificity)               0.869\n",
       "False negative rate                            0.376\n",
       "Negative predictive value                      0.856\n",
       "Positive likelihood ratio (bigger is better)   4.770\n",
       "Negative likelihood ratio (smaller is better)  0.433\n",
       "Diagnostic odds ratio                         11.018\n",
       "Accuracy                                       0.801\n",
       "F1 score                                       0.636\n",
       "Accuracy                                       0.801\n",
       "ROC AUC                                        0.825\n",
       "Scaled Brier Score                             0.246\n",
       "Hosmer_Lemeshow p-value                        0.000\n",
       "Spiegelhalter p-value                          0.000"
      ]
     },
     "execution_count": 139,
     "metadata": {},
     "output_type": "execute_result"
    }
   ],
   "source": [
    "monitor_table(y_test, pipe_xgb_final.predict(X_test), pipe_xgb_final.predict_proba(X_test)[:,1])"
   ]
  },
  {
   "cell_type": "code",
   "execution_count": null,
   "metadata": {},
   "outputs": [],
   "source": []
  }
 ],
 "metadata": {
  "kernelspec": {
   "display_name": "Python 3",
   "language": "python",
   "name": "python3"
  },
  "language_info": {
   "codemirror_mode": {
    "name": "ipython",
    "version": 3
   },
   "file_extension": ".py",
   "mimetype": "text/x-python",
   "name": "python",
   "nbconvert_exporter": "python",
   "pygments_lexer": "ipython3",
   "version": "3.8.5"
  }
 },
 "nbformat": 4,
 "nbformat_minor": 4
}
